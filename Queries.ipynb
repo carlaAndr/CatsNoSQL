{
 "cells": [
  {
   "cell_type": "markdown",
   "metadata": {},
   "source": [
    "# Consultas en Mongo"
   ]
  },
  {
   "cell_type": "markdown",
   "metadata": {},
   "source": [
    "Busco al 'mejor'  superhéroe según su calificación en 'Powerstats'. Los criterios evaluados son:\n",
    "- Intelligence\n",
    "- Strength\n",
    "- Speed\n",
    "- Durability\n",
    "- Power\n",
    "- Combat"
   ]
  },
  {
   "cell_type": "code",
   "execution_count": null,
   "metadata": {
    "vscode": {
     "languageId": "plaintext"
    }
   },
   "outputs": [],
   "source": [
    "db.supers.aggregate([\n",
    "...   {\n",
    "    $project: {\n",
    "...       name: 1,\n",
    "...       totalScore: {\n",
    "...         $sum: [\n", \"$powerstats.intelligence\",\n",
    "...           \"$powerstats.strength\",\n",
    "...           \"$powerstats.speed\",\n",
    "...           \"$powerstats.durability\",\n",
    "...           \"$powerstats.power\",\n",
    "...           \"$powerstats.combat\"\n",
    "...         ]\n",
    "...       }\n",
    "...     }\n",
    "...   },\n",
    "...   {\n",
    "...     $sort: { totalScore: -1 }\n",
    "...   },\n",
    "...   {\n",
    "...     $limit: 1\n",
    "...   }\n",
    "... ])\n",
    "["
   ]
  },
  {
   "cell_type": "markdown",
   "metadata": {},
   "source": [
    "Ahora ponderamos los poderes de los superhéroes\n",
    "- Inteligencia : 5\n",
    "- Fuerza : 4\n",
    "- Velociodad : 3\n",
    "- Durabilidad: 2\n",
    "- Poder: 4\n",
    "- Combate: 3 "
   ]
  },
  {
   "cell_type": "code",
   "execution_count": null,
   "metadata": {
    "vscode": {
     "languageId": "plaintext"
    }
   },
   "outputs": [],
   "source": [
    "db.supers.aggregate([\n",
    "  {\n",
    "    $project: {\n",
    "      name: 1,\n",
    "      totalScore: {\n",
    "        $sum: [\n",
    "          { $multiply: [\"$powerstats.intelligence\", 5] },\n",
    "          { $multiply: [\"$powerstats.strength\", 4] },\n",
    "          { $multiply: [\"$powerstats.speed\", 3] },\n",
    "          { $multiply: [\"$powerstats.durability\", 2] },\n",
    "          { $multiply: [\"$powerstats.power\", 4] },\n",
    "          { $multiply: [\"$powerstats.combat\", 3] }\n",
    "        ]\n",
    "      }\n",
    "    }\n",
    "  },\n",
    "  {\n",
    "    $sort: { totalScore: -1 }\n",
    "  },\n",
    "  {\n",
    "    $limit: 1\n",
    "  }\n",
    "])\n"
   ]
  },
  {
   "cell_type": "markdown",
   "metadata": {},
   "source": [
    "Recupero las ocupaciones de los hombres"
   ]
  },
  {
   "cell_type": "code",
   "execution_count": null,
   "metadata": {
    "vscode": {
     "languageId": "plaintext"
    }
   },
   "outputs": [],
   "source": [
    "db.supers.aggregate([\n",
    "...   {\n",
    "...     $match: {\n",
    "...       \"appearance.gender\": \"Male\"\n",
    "...     }\n",
    "...   },\n",
    "...   {\n",
    "...     $project: {\n",
    "...       _id: 0,\n",
    "...       occupation: \"$work.occupation\"\n",
    "...     }\n",
    "...   },\n",
    "...   {\n",
    "...     $unwind: \"$occupation\"\n",
    "...   },\n",
    "...   {\n",
    "...     $group: {\n",
    "...       _id: \"$occupation\",\n",
    "...       count: { $sum: 1 }\n",
    "...     }\n",
    "...   },\n",
    "...   {\n",
    "...     $sort: { count: -1 }\n",
    "...   }\n",
    "... ])"
   ]
  },
  {
   "cell_type": "markdown",
   "metadata": {},
   "source": [
    "Agrupa la cantidad de super héroes cuyas actividades está incluidos: \n",
    "- Aventurero\n",
    "- Profesor\n",
    "- Ingeniero\n",
    "- Estudiante\n",
    "\n"
   ]
  },
  {
   "cell_type": "code",
   "execution_count": null,
   "metadata": {
    "vscode": {
     "languageId": "plaintext"
    }
   },
   "outputs": [],
   "source": [
    "db.supers.aggregate([\n",
    "  {\n",
    "    $match: {\n",
    "      \"work.occupation\": { $exists: true }\n",
    "    }\n",
    "  },\n",
    "  {\n",
    "    $project: {\n",
    "      _id: 0,\n",
    "      occupation: \"$work.occupation\"\n",
    "    }\n",
    "  },\n",
    "  {\n",
    "    $unwind: \"$occupation\"\n",
    "  },\n",
    "  {\n",
    "    $group: {\n",
    "      _id: {\n",
    "        $cond: {\n",
    "          if: {\n",
    "            $regexMatch: {\n",
    "              input: \"$occupation\",\n",
    "              regex: /(Adventurer|Professor|Engineer|Student|Scientist)/i\n",
    "            }\n",
    "          },\n",
    "          then: {\n",
    "            $regexFind: {\n",
    "              input: \"$occupation\",\n",
    "              regex: /(Adventurer|Professor|Engineer|Student|Scientist)/i\n",
    "            }\n",
    "          },\n",
    "          else: \"Other\"\n",
    "        }\n",
    "      },\n",
    "      count: { $sum: 1 }\n",
    "    }\n",
    "  },\n",
    "  {\n",
    "    $sort: { count: -1 }\n",
    "  }\n",
    "])\n"
   ]
  },
  {
   "cell_type": "markdown",
   "metadata": {},
   "source": [
    "Las mujeres de DC cuya inteligencia y poder de combate sea mayor a la media."
   ]
  },
  {
   "cell_type": "code",
   "execution_count": null,
   "metadata": {
    "vscode": {
     "languageId": "plaintext"
    }
   },
   "outputs": [],
   "source": [
    "db.supers.aggregate([\n",
    "  {\n",
    "    $match: {\n",
    "      \"biography.publisher\": \"DC Comics\",\n",
    "      \"appearance.gender\": \"Female\"\n",
    "    }\n",
    "  },\n",
    "  {\n",
    "    $group: {\n",
    "      _id: \"$name\",\n",
    "      averageIntelligence: { $avg: \"$powerstats.intelligence\" },\n",
    "      averageCombat: { $avg: \"$powerstats.combat\" }\n",
    "    }\n",
    "  },\n",
    "  {\n",
    "    $project: {\n",
    "      _id: 1,\n",
    "      averageIntelligence: 1,\n",
    "      averageCombat: 1\n",
    "    }\n",
    "  }\n",
    "])\n",
    "\n",
    "   "
   ]
  },
  {
   "cell_type": "markdown",
   "metadata": {},
   "source": [
    "# NEO4J"
   ]
  },
  {
   "cell_type": "markdown",
   "metadata": {},
   "source": [
    "Los superhéroes que tienen más o iugal a 80 de durabilidad y sea de Marvel Comics"
   ]
  },
  {
   "cell_type": "code",
   "execution_count": null,
   "metadata": {
    "vscode": {
     "languageId": "plaintext"
    }
   },
   "outputs": [],
   "source": [
    "MATCH (c:Character)-[:HAS_POWERSTATS]->(p:Powerstats)\n",
    "MATCH (c:Character)-[:HAS_BIOGRAPHY]->(b:Biography)\n",
    "where p.`powerstats.power`>'80' AND b.`biography.publisher`= 'Marvel Comics'\n",
    "RETURN c.name AS heroName, p.`powerstats.power` AS heroPower, b.`biography.publisher` AS Publisher"
   ]
  },
  {
   "cell_type": "markdown",
   "metadata": {},
   "source": [
    "Se buscará los superhéroes que cumplan:\n",
    "- Durabilidad >=50\n",
    "- Tengan los ojos azules"
   ]
  },
  {
   "cell_type": "code",
   "execution_count": null,
   "metadata": {
    "vscode": {
     "languageId": "plaintext"
    }
   },
   "outputs": [],
   "source": [
    "MATCH (character:Character)-[:HAS_POWERSTATS]->(powerstats:Powerstats)\n",
    "MATCH (character:Character)-[:HAS_APPEARANCE]->(appearance:Appearance)\n",
    "where powerstats.`powerstats.durability`>='50' AND appearance.`appearance.eye-color`='Blue'\n",
    "RETURN character.name AS heroName, powerstats.`powerstats.durability` AS heroDurability, appearance.`appearance.eye-color` as heroEyeColor"
   ]
  },
  {
   "cell_type": "markdown",
   "metadata": {},
   "source": [
    "Dar el número de superhéroes que tienen los ojos azules agrupados por quién lo publicó."
   ]
  },
  {
   "cell_type": "code",
   "execution_count": null,
   "metadata": {
    "vscode": {
     "languageId": "plaintext"
    }
   },
   "outputs": [],
   "source": [
    "MATCH (c:Character)-[:HAS_APPEARANCE]->(a:Appearance)\n",
    "MATCH (c)-[:HAS_BIOGRAPHY]->(b:Biography)\n",
    "WHERE toLower(a.`appearance.eye-color`) = 'blue'\n",
    "RETURN b.`biography.publisher` AS comicBookPublisher, count(c) AS numberOfBlueEyedHeroes"
   ]
  }
 ],
 "metadata": {
  "language_info": {
   "name": "python"
  }
 },
 "nbformat": 4,
 "nbformat_minor": 2
}
